{
 "cells": [
  {
   "cell_type": "code",
   "execution_count": 18,
   "id": "03230acf",
   "metadata": {},
   "outputs": [],
   "source": [
    "import tensorflow as tf"
   ]
  },
  {
   "cell_type": "code",
   "execution_count": 19,
   "id": "a7086737",
   "metadata": {},
   "outputs": [
    {
     "data": {
      "text/plain": [
       "'2.10.0'"
      ]
     },
     "execution_count": 19,
     "metadata": {},
     "output_type": "execute_result"
    }
   ],
   "source": [
    "tf.__version__"
   ]
  },
  {
   "cell_type": "code",
   "execution_count": 20,
   "id": "d3fd7b3b",
   "metadata": {},
   "outputs": [],
   "source": [
    "from keras.preprocessing.image import ImageDataGenerator"
   ]
  },
  {
   "cell_type": "code",
   "execution_count": 21,
   "id": "428c6f9f",
   "metadata": {},
   "outputs": [],
   "source": [
    "train_datagen = ImageDataGenerator(rescale = 1./255,\n",
    "                                  shear_range = 0.2,\n",
    "                                  zoom_range = 0.2,\n",
    "                                  horizontal_flip = True)"
   ]
  },
  {
   "cell_type": "code",
   "execution_count": 22,
   "id": "516a1832",
   "metadata": {},
   "outputs": [
    {
     "name": "stdout",
     "output_type": "stream",
     "text": [
      "Found 8000 images belonging to 2 classes.\n"
     ]
    }
   ],
   "source": [
    "training_set = train_datagen.flow_from_directory('CNN/dataset/training_set',\n",
    "                                                target_size =(64,64),\n",
    "                                                batch_size = 32,\n",
    "                                                class_mode = 'binary')"
   ]
  },
  {
   "cell_type": "code",
   "execution_count": 23,
   "id": "334a7c0c",
   "metadata": {},
   "outputs": [
    {
     "name": "stdout",
     "output_type": "stream",
     "text": [
      "Found 1999 images belonging to 2 classes.\n"
     ]
    }
   ],
   "source": [
    "test_datagen = ImageDataGenerator(rescale=1./255)\n",
    "test_set = test_datagen.flow_from_directory('CNN/dataset/test_set',\n",
    "                                           target_size = (64,64),\n",
    "                                           batch_size = 32,\n",
    "                                           class_mode = 'binary')"
   ]
  },
  {
   "cell_type": "code",
   "execution_count": 24,
   "id": "b0b4ed5f",
   "metadata": {},
   "outputs": [],
   "source": [
    "cnn = tf.keras.models.Sequential()"
   ]
  },
  {
   "cell_type": "code",
   "execution_count": 25,
   "id": "3ecda0b7",
   "metadata": {},
   "outputs": [],
   "source": [
    "cnn.add(tf.keras.layers.Conv2D(filters = 32,\n",
    "                              kernel_size = 3,\n",
    "                              activation = 'relu',\n",
    "                              input_shape = [64,64,3]))"
   ]
  },
  {
   "cell_type": "code",
   "execution_count": 26,
   "id": "f6103f4d",
   "metadata": {},
   "outputs": [],
   "source": [
    "cnn.add(tf.keras.layers.MaxPool2D(pool_size = 2,\n",
    "                                 strides = 2))"
   ]
  },
  {
   "cell_type": "code",
   "execution_count": 27,
   "id": "734b89dd",
   "metadata": {},
   "outputs": [],
   "source": [
    "cnn.add(tf.keras.layers.Conv2D(filters = 32,\n",
    "                              kernel_size = 3,\n",
    "                              activation ='relu',\n",
    "                              ))\n",
    "cnn.add(tf.keras.layers.MaxPool2D(pool_size = 2,\n",
    "                                 strides = 2))"
   ]
  },
  {
   "cell_type": "code",
   "execution_count": 28,
   "id": "3f5b79e9",
   "metadata": {},
   "outputs": [],
   "source": [
    "cnn.add(tf.keras.layers.Flatten())"
   ]
  },
  {
   "cell_type": "code",
   "execution_count": 29,
   "id": "6956ac99",
   "metadata": {},
   "outputs": [],
   "source": [
    "cnn.add(tf.keras.layers.Dense(units=128,\n",
    "                             activation = 'relu'))"
   ]
  },
  {
   "cell_type": "code",
   "execution_count": 30,
   "id": "457bf10f",
   "metadata": {},
   "outputs": [],
   "source": [
    "cnn.add(tf.keras.layers.Dense(units=1,activation='sigmoid'))"
   ]
  },
  {
   "cell_type": "code",
   "execution_count": 31,
   "id": "4b59ffb7",
   "metadata": {},
   "outputs": [],
   "source": [
    "cnn.compile(optimizer='adam',\n",
    "            loss='binary_crossentropy',\n",
    "           metrics = ['accuracy']) "
   ]
  },
  {
   "cell_type": "code",
   "execution_count": 32,
   "id": "977821cc",
   "metadata": {},
   "outputs": [
    {
     "name": "stdout",
     "output_type": "stream",
     "text": [
      "Epoch 1/25\n",
      "250/250 [==============================] - 63s 249ms/step - loss: 0.6802 - accuracy: 0.5620 - val_loss: 0.6806 - val_accuracy: 0.5723\n",
      "Epoch 2/25\n",
      "250/250 [==============================] - 68s 271ms/step - loss: 0.6420 - accuracy: 0.6341 - val_loss: 0.6074 - val_accuracy: 0.6783\n",
      "Epoch 3/25\n",
      "250/250 [==============================] - 65s 261ms/step - loss: 0.5943 - accuracy: 0.6796 - val_loss: 0.5777 - val_accuracy: 0.7064\n",
      "Epoch 4/25\n",
      "250/250 [==============================] - 65s 260ms/step - loss: 0.5603 - accuracy: 0.7110 - val_loss: 0.5530 - val_accuracy: 0.7269\n",
      "Epoch 5/25\n",
      "250/250 [==============================] - 66s 264ms/step - loss: 0.5319 - accuracy: 0.7275 - val_loss: 0.5520 - val_accuracy: 0.7114\n",
      "Epoch 6/25\n",
      "250/250 [==============================] - 65s 260ms/step - loss: 0.4934 - accuracy: 0.7620 - val_loss: 0.5083 - val_accuracy: 0.7604\n",
      "Epoch 7/25\n",
      "250/250 [==============================] - 65s 259ms/step - loss: 0.4721 - accuracy: 0.7671 - val_loss: 0.5213 - val_accuracy: 0.7639\n",
      "Epoch 8/25\n",
      "250/250 [==============================] - 67s 266ms/step - loss: 0.4502 - accuracy: 0.7844 - val_loss: 0.4893 - val_accuracy: 0.7719\n",
      "Epoch 9/25\n",
      "250/250 [==============================] - 65s 259ms/step - loss: 0.4281 - accuracy: 0.7997 - val_loss: 0.4859 - val_accuracy: 0.7809\n",
      "Epoch 10/25\n",
      "250/250 [==============================] - 70s 279ms/step - loss: 0.4075 - accuracy: 0.8117 - val_loss: 0.5740 - val_accuracy: 0.7389\n",
      "Epoch 11/25\n",
      "250/250 [==============================] - 453s 2s/step - loss: 0.3943 - accuracy: 0.8195 - val_loss: 0.4744 - val_accuracy: 0.7914\n",
      "Epoch 12/25\n",
      "250/250 [==============================] - 121s 485ms/step - loss: 0.3697 - accuracy: 0.8326 - val_loss: 0.5037 - val_accuracy: 0.7799\n",
      "Epoch 13/25\n",
      "250/250 [==============================] - 122s 489ms/step - loss: 0.3606 - accuracy: 0.8407 - val_loss: 0.4635 - val_accuracy: 0.7934\n",
      "Epoch 14/25\n",
      "250/250 [==============================] - 124s 496ms/step - loss: 0.3412 - accuracy: 0.8478 - val_loss: 0.4949 - val_accuracy: 0.7884\n",
      "Epoch 15/25\n",
      "250/250 [==============================] - 119s 475ms/step - loss: 0.3176 - accuracy: 0.8645 - val_loss: 0.5022 - val_accuracy: 0.7849\n",
      "Epoch 16/25\n",
      "250/250 [==============================] - 121s 485ms/step - loss: 0.3077 - accuracy: 0.8633 - val_loss: 0.4938 - val_accuracy: 0.7939\n",
      "Epoch 17/25\n",
      "250/250 [==============================] - 123s 491ms/step - loss: 0.2914 - accuracy: 0.8776 - val_loss: 0.4850 - val_accuracy: 0.8014\n",
      "Epoch 18/25\n",
      "250/250 [==============================] - 123s 492ms/step - loss: 0.2728 - accuracy: 0.8857 - val_loss: 0.5117 - val_accuracy: 0.7834\n",
      "Epoch 19/25\n",
      "250/250 [==============================] - 123s 492ms/step - loss: 0.2553 - accuracy: 0.8903 - val_loss: 0.6359 - val_accuracy: 0.7634\n",
      "Epoch 20/25\n",
      "250/250 [==============================] - 123s 491ms/step - loss: 0.2385 - accuracy: 0.9051 - val_loss: 0.5581 - val_accuracy: 0.7964\n",
      "Epoch 21/25\n",
      "250/250 [==============================] - 123s 490ms/step - loss: 0.2287 - accuracy: 0.9075 - val_loss: 0.5811 - val_accuracy: 0.7864\n",
      "Epoch 22/25\n",
      "250/250 [==============================] - 124s 497ms/step - loss: 0.2137 - accuracy: 0.9149 - val_loss: 0.5550 - val_accuracy: 0.7809\n",
      "Epoch 23/25\n",
      "250/250 [==============================] - 125s 501ms/step - loss: 0.1965 - accuracy: 0.9200 - val_loss: 0.5615 - val_accuracy: 0.8009\n",
      "Epoch 24/25\n",
      "250/250 [==============================] - 123s 491ms/step - loss: 0.1873 - accuracy: 0.9247 - val_loss: 0.6281 - val_accuracy: 0.7929\n",
      "Epoch 25/25\n",
      "250/250 [==============================] - 122s 489ms/step - loss: 0.1789 - accuracy: 0.9281 - val_loss: 0.6562 - val_accuracy: 0.7669\n"
     ]
    },
    {
     "data": {
      "text/plain": [
       "<keras.callbacks.History at 0x1d84b1079a0>"
      ]
     },
     "execution_count": 32,
     "metadata": {},
     "output_type": "execute_result"
    }
   ],
   "source": [
    "cnn.fit(x=training_set,validation_data=test_set,epochs=25)"
   ]
  },
  {
   "cell_type": "code",
   "execution_count": 50,
   "id": "6c9e044d",
   "metadata": {
    "scrolled": true
   },
   "outputs": [
    {
     "name": "stdout",
     "output_type": "stream",
     "text": [
      "1/1 [==============================] - 0s 45ms/step\n",
      "Prediction: Dog\n"
     ]
    }
   ],
   "source": [
    "\n",
    "new_image_path = 'CNN/test/dog.4002.jpg'  \n",
    "new_image = tf.keras.preprocessing.image.load_img(new_image_path, target_size=(64, 64))\n",
    "new_image = tf.keras.preprocessing.image.img_to_array(new_image)\n",
    "new_image = tf.expand_dims(new_image, axis=0)  # Add batch dimension\n",
    "new_image /= 255.0  # Normalize the image\n",
    "\n",
    "# Make prediction using the trained model\n",
    "prediction = cnn.predict(new_image)\n",
    "\n",
    "# Print the prediction\n",
    "if prediction[0][0] > 0.5:\n",
    "    print(\"Prediction: Dog\")\n",
    "else:\n",
    "    print(\"Prediction: Cat\")\n"
   ]
  },
  {
   "cell_type": "code",
   "execution_count": null,
   "id": "1bd37691",
   "metadata": {},
   "outputs": [],
   "source": []
  },
  {
   "cell_type": "code",
   "execution_count": null,
   "id": "66cccc00",
   "metadata": {},
   "outputs": [],
   "source": []
  }
 ],
 "metadata": {
  "kernelspec": {
   "display_name": "Python 3 (ipykernel)",
   "language": "python",
   "name": "python3"
  },
  "language_info": {
   "codemirror_mode": {
    "name": "ipython",
    "version": 3
   },
   "file_extension": ".py",
   "mimetype": "text/x-python",
   "name": "python",
   "nbconvert_exporter": "python",
   "pygments_lexer": "ipython3",
   "version": "3.10.11"
  }
 },
 "nbformat": 4,
 "nbformat_minor": 5
}
